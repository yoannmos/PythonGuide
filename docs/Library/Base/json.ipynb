{
 "cells": [
  {
   "cell_type": "markdown",
   "metadata": {},
   "source": [
    "# Json Package"
   ]
  },
  {
   "cell_type": "code",
   "execution_count": 1,
   "metadata": {},
   "outputs": [],
   "source": [
    "import os\n",
    "import json"
   ]
  },
  {
   "cell_type": "markdown",
   "metadata": {},
   "source": [
    "## Create a json file"
   ]
  },
  {
   "cell_type": "code",
   "execution_count": 2,
   "metadata": {},
   "outputs": [],
   "source": [
    "data_dict1 = {\n",
    "    \"Members\": [{\n",
    "        \"id\": 112,\n",
    "        \"Names\": \"Paul\",\n",
    "        \"Age\": 32\n",
    "    }]\n",
    "}\n",
    "\n",
    "with open(\"data_file.json\", \"w\") as write_file:\n",
    "    json.dump(data_dict1, write_file)"
   ]
  },
  {
   "cell_type": "markdown",
   "metadata": {},
   "source": [
    "## Append to a json file"
   ]
  },
  {
   "cell_type": "code",
   "execution_count": 3,
   "metadata": {},
   "outputs": [],
   "source": [
    "data_dict2 = {\n",
    "    \"Members\": [{\n",
    "        \"id\": 113,\n",
    "        \"Names\": \"Mary\",\n",
    "        \"Age\": 35\n",
    "    }]\n",
    "}\n",
    "\n",
    "with open(\"data_file.json\") as json_file:\n",
    "    data = json.load(json_file)\n",
    "    members = data[\"Members\"]\n",
    "    members.append(data_dict2[\"Members\"])"
   ]
  },
  {
   "cell_type": "code",
   "execution_count": 4,
   "metadata": {},
   "outputs": [],
   "source": [
    "os.remove(\"data_file.json\")"
   ]
  }
 ],
 "metadata": {
  "kernelspec": {
   "display_name": "Python 3.7.5 32-bit ('.venv': venv)",
   "language": "python",
   "name": "python37532bitvenvvenvbdd086dcbf484ffb92cc560ffd8920bf"
  },
  "language_info": {
   "codemirror_mode": {
    "name": "ipython",
    "version": 3
   },
   "file_extension": ".py",
   "mimetype": "text/x-python",
   "name": "python",
   "nbconvert_exporter": "python",
   "pygments_lexer": "ipython3",
   "version": "3.7.5-final"
  }
 },
 "nbformat": 4,
 "nbformat_minor": 4
}