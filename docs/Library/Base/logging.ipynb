{
 "metadata": {
  "language_info": {
   "codemirror_mode": {
    "name": "ipython",
    "version": 3
   },
   "file_extension": ".py",
   "mimetype": "text/x-python",
   "name": "python",
   "nbconvert_exporter": "python",
   "pygments_lexer": "ipython3",
   "version": "3.7.5-final"
  },
  "orig_nbformat": 2,
  "kernelspec": {
   "name": "python37532bitvenvvenvbdd086dcbf484ffb92cc560ffd8920bf",
   "display_name": "Python 3.7.5 32-bit ('.venv': venv)"
  }
 },
 "nbformat": 4,
 "nbformat_minor": 2,
 "cells": [
  {
   "source": [
    "# Logging"
   ],
   "cell_type": "markdown",
   "metadata": {}
  },
  {
   "cell_type": "code",
   "execution_count": 1,
   "metadata": {},
   "outputs": [
    {
     "output_type": "stream",
     "name": "stderr",
     "text": [
      "[INFO] Start of factorial 5\n",
      "[DEBUG] i is 0, total is 1\n",
      "[DEBUG] i is 1, total is 2\n",
      "[DEBUG] i is 2, total is 6\n",
      "[DEBUG] i is 3, total is 24\n",
      "[DEBUG] i is 4, total is 120\n",
      "[DEBUG] i is 5, total is 720\n",
      "[INFO] End of factorial 5\n"
     ]
    }
   ],
   "source": [
    "\"\"\"\n",
    "Module: \n",
    "    ex_logging.py\n",
    "\"\"\"\n",
    "\n",
    "import logging\n",
    "\n",
    "FORMAT = \"[%(levelname)s] %(message)s\"\n",
    "logging.basicConfig(level=logging.DEBUG, format=FORMAT)\n",
    "\n",
    "\n",
    "def factorial(n):\n",
    "    \"\"\"\n",
    "    A factorial fonction\n",
    "\n",
    "    Arguments:\n",
    "        n: Integer\n",
    "            The number to factorize\n",
    "\n",
    "    Returns: \n",
    "        Integer\n",
    "            Factorial number of n  \n",
    "\n",
    "    \"\"\"\n",
    "    logging.info(\"Start of factorial {}\".format(n))\n",
    "    total = 1\n",
    "    for i in range(n + 1):\n",
    "        total *= i + 1\n",
    "        logging.debug(\"i is \" + str(i) + \", total is \" + str(total))\n",
    "    logging.info(\"End of factorial {}\".format(n))\n",
    "    return total\n",
    "\n",
    "\n",
    "if __name__ == \"__main__\":\n",
    "\n",
    "    factorial(5)"
   ]
  }
 ]
}