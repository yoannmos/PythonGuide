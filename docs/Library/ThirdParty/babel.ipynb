{
 "metadata": {
  "language_info": {
   "codemirror_mode": {
    "name": "ipython",
    "version": 3
   },
   "file_extension": ".py",
   "mimetype": "text/x-python",
   "name": "python",
   "nbconvert_exporter": "python",
   "pygments_lexer": "ipython3",
   "version": "3.7.5-final"
  },
  "orig_nbformat": 2,
  "kernelspec": {
   "name": "python37532bitvenvvenvbdd086dcbf484ffb92cc560ffd8920bf",
   "display_name": "Python 3.7.5 32-bit ('.venv': venv)"
  }
 },
 "nbformat": 4,
 "nbformat_minor": 2,
 "cells": [
  {
   "source": [
    "# Babel\n",
    "\n",
    "http://babel.pocoo.org/en/latest/dates.html"
   ],
   "cell_type": "markdown",
   "metadata": {}
  },
  {
   "cell_type": "code",
   "execution_count": 1,
   "metadata": {},
   "outputs": [
    {
     "output_type": "execute_result",
     "data": {
      "text/plain": [
       "'Francia'"
      ]
     },
     "metadata": {},
     "execution_count": 1
    }
   ],
   "source": [
    "from babel import Locale\n",
    "\n",
    "locale = Locale('es')\n",
    "locale.territories['FR']"
   ]
  },
  {
   "cell_type": "code",
   "execution_count": 2,
   "metadata": {},
   "outputs": [
    {
     "output_type": "execute_result",
     "data": {
      "text/plain": [
       "'Octubre'"
      ]
     },
     "metadata": {},
     "execution_count": 2
    }
   ],
   "source": [
    "Locale('es').months['format']['wide'][10].capitalize()"
   ]
  },
  {
   "cell_type": "code",
   "execution_count": 3,
   "metadata": {},
   "outputs": [
    {
     "output_type": "execute_result",
     "data": {
      "text/plain": [
       "'Ottobre'"
      ]
     },
     "metadata": {},
     "execution_count": 3
    }
   ],
   "source": [
    "Locale('it').months['format']['wide'][10].capitalize()"
   ]
  },
  {
   "cell_type": "code",
   "execution_count": 4,
   "metadata": {},
   "outputs": [
    {
     "output_type": "stream",
     "name": "stdout",
     "text": [
      "\n Dec 20, 2019\n\n 20.12.2019\n\n 20 dic 2019\n\n 20 déc. 2019\n\n vendredi, 20.décembre.2019\n\n D\n\n D\n\n décembre\n\n déc.\n"
     ]
    }
   ],
   "source": [
    "from datetime import date\n",
    "from babel.dates import format_date\n",
    "\n",
    "d = date(2019, 12, 20)\n",
    "\n",
    "en_date_form = format_date(d, locale='en')\n",
    "print(\"\\n\",en_date_form)\n",
    "\n",
    "de_date_form = format_date(d, locale='de')\n",
    "print(\"\\n\",de_date_form)\n",
    "\n",
    "it_date_form = format_date(d, locale='it')\n",
    "print(\"\\n\",it_date_form)\n",
    "\n",
    "fr_date_form1 = format_date(d, locale='fr')\n",
    "print(\"\\n\",fr_date_form1)\n",
    "\n",
    "fr_date_form2 = format_date(d, \"EEEE, dd.MMMM.yyyy\", locale='fr')\n",
    "print(\"\\n\",fr_date_form2)\n",
    "\n",
    "fr_month_form1 = format_date(d, \"MMMMM\", locale='fr')\n",
    "print(\"\\n\",fr_month_form1)\n",
    "\n",
    "fr_month_form2 = format_date(d, \"MMMM\", locale='fr')\n",
    "print(\"\\n\",fr_month_form1)\n",
    "\n",
    "fr_month_form3 = format_date(d, \"MMM\", locale='fr')\n",
    "print(\"\\n\",fr_month_form2)\n",
    "\n",
    "fr_month_form4 = format_date(d, \"MM\", locale='fr')\n",
    "print(\"\\n\",fr_month_form3)"
   ]
  },
  {
   "cell_type": "code",
   "execution_count": null,
   "metadata": {},
   "outputs": [],
   "source": []
  }
 ]
}