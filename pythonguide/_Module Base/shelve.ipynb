{
 "nbformat": 4,
 "nbformat_minor": 2,
 "metadata": {
  "language_info": {
   "name": "python",
   "codemirror_mode": {
    "name": "ipython",
    "version": 3
   },
   "version": "3.7.5-final"
  },
  "orig_nbformat": 2,
  "file_extension": ".py",
  "mimetype": "text/x-python",
  "name": "python",
  "npconvert_exporter": "python",
  "pygments_lexer": "ipython3",
  "version": 3,
  "kernelspec": {
   "name": "python37532bitvenvvenvbdd086dcbf484ffb92cc560ffd8920bf",
   "display_name": "Python 3.7.5 32-bit ('.venv': venv)"
  }
 },
 "cells": [
  {
   "cell_type": "code",
   "execution_count": 1,
   "metadata": {},
   "outputs": [],
   "source": [
    "# Import shelve module\n",
    "import os\n",
    "import shelve"
   ]
  },
  {
   "cell_type": "code",
   "execution_count": 2,
   "metadata": {},
   "outputs": [],
   "source": [
    "# Look at path section in PythonGuide for explication of pathlib use. \n",
    "from pathlib import Path\n",
    "data_path = Path.cwd() / Path(\"shelve_test\")"
   ]
  },
  {
   "cell_type": "code",
   "execution_count": 3,
   "metadata": {},
   "outputs": [
    {
     "output_type": "stream",
     "name": "stdout",
     "text": [
      "data[mystr] : myvalue\ndata[myint] : 89\ndata[mylist] : [123, 'abc', [9, 8, 7], (75, 54)]\n"
     ]
    }
   ],
   "source": [
    "# Opening with flag \"c\" permit write and read acces\n",
    "data = shelve.open(str(data_path), \"c\")\n",
    "\n",
    "# Create a key\n",
    "data[\"mystr\"] = \"myvalue\"\n",
    "data[\"myint\"] = 89\n",
    "data[\"mylist\"] = [123, \"abc\", [9, 8, 7], (75, 54)]\n",
    "\n",
    "for key, value in data.items():\n",
    "    print(f\"data[{key}] : {value}\")\n",
    "\n"
   ]
  },
  {
   "cell_type": "code",
   "execution_count": 4,
   "metadata": {},
   "outputs": [],
   "source": [
    "os.remove(\"shelve_test.dir\")\n",
    "os.remove(\"shelve_test.dat\")\n",
    "try:\n",
    "    os.remove(\"shelve_test.bak\")\n",
    "except FileNotFoundError:\n",
    "    pass"
   ]
  }
 ]
}