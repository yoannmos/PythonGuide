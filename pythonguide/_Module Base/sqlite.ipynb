{
 "metadata": {
  "language_info": {
   "codemirror_mode": {
    "name": "ipython",
    "version": 3
   },
   "file_extension": ".py",
   "mimetype": "text/x-python",
   "name": "python",
   "nbconvert_exporter": "python",
   "pygments_lexer": "ipython3",
   "version": "3.7.5-final"
  },
  "orig_nbformat": 2,
  "kernelspec": {
   "name": "Python 3.7.5 32-bit",
   "display_name": "Python 3.7.5 32-bit",
   "metadata": {
    "interpreter": {
     "hash": "f8097b0eba1afcb7bdc2df58fcc7405192bf62ff212e4228092e8f56e34af447"
    }
   }
  }
 },
 "nbformat": 4,
 "nbformat_minor": 2,
 "cells": [
  {
   "cell_type": "code",
   "execution_count": 9,
   "metadata": {},
   "outputs": [],
   "source": [
    "import sqlite3\n",
    "from pathlib import Path\n",
    "\n",
    "\n",
    "class Employee :\n",
    "    \"\"\"A sample Employee class\"\"\"\n",
    "\n",
    "    def __init__(self, first, last, pay):\n",
    "        self.first = first\n",
    "        self.last = last\n",
    "        self.pay = pay\n",
    "\n",
    "    @property\n",
    "    def email(self):\n",
    "        return '{} {}@email.com'.format(self.first, self.last)\n",
    "\n",
    "    @property\n",
    "    def fullname(self):\n",
    "        return '{} {}'.format(self.first, self.last)\n",
    "\n",
    "    def __repr__(self):\n",
    "        return \"Employee('{}', '{}', {})\".format(self.first, self.last, self.pay)"
   ]
  },
  {
   "cell_type": "code",
   "execution_count": 10,
   "metadata": {},
   "outputs": [],
   "source": [
    "path = Path.cwd() / Path(\"employees.db\")\n",
    "\n",
    "# conn = sqlite3.connect(':memory:') # In Memory Database\n",
    "conn = sqlite3.connect(path) # File Database\n",
    "\n",
    "c = conn.cursor()\n",
    "\n",
    "try:\n",
    "    # Create table\n",
    "    c.execute(\"\"\"CREATE TABLE employees (\n",
    "                first text,\n",
    "                last text,\n",
    "                pay integer\n",
    "                ) \"\"\")\n",
    "            \n",
    "except sqlite3.OperationalError:\n",
    "    # Table already exist\n",
    "    pass"
   ]
  },
  {
   "cell_type": "code",
   "execution_count": 11,
   "metadata": {},
   "outputs": [],
   "source": [
    "emp_1 = Employee(\"John\", \"Doe\", 80000)\n",
    "emp_2 = Employee(\"Jane\", \"Doe\", 80000)"
   ]
  },
  {
   "cell_type": "code",
   "execution_count": 12,
   "metadata": {},
   "outputs": [],
   "source": [
    "def insert_emp(emp):\n",
    "    with conn:  # commit auto\n",
    "        c.execute(\n",
    "            \"INSERT INTO employees VALUES (:first, :last, :pay)\",\n",
    "            {\"first\": emp.first, \"last\": emp.last, \"pay\": emp.pay},\n",
    "        )\n",
    "insert_emp(emp_1)\n",
    "insert_emp(emp_2)"
   ]
  },
  {
   "cell_type": "code",
   "execution_count": 13,
   "metadata": {},
   "outputs": [
    {
     "output_type": "execute_result",
     "data": {
      "text/plain": [
       "[('John', 'Doe', 80000),\n",
       " ('John', 'Doe', 80000),\n",
       " ('John', 'Doe', 80000),\n",
       " ('John', 'Doe', 80000),\n",
       " ('Jane', 'Doe', 80000)]"
      ]
     },
     "metadata": {},
     "execution_count": 13
    }
   ],
   "source": [
    "def get_emps_by_name(lastname):\n",
    "    with conn:\n",
    "        c.execute(\n",
    "            \"SELECT * FROM employees WHERE last=:last\", {\"last\": lastname}\n",
    "        )  # no need to commit\n",
    "        return c.fetchall()\n",
    "\n",
    "get_emps_by_name(emp_2.last)"
   ]
  },
  {
   "cell_type": "code",
   "execution_count": 14,
   "metadata": {},
   "outputs": [],
   "source": [
    "def update_pay(emp, pay):\n",
    "    with conn:\n",
    "        c.execute(\n",
    "            \"\"\"UPDATE employees SET pay = :pay\n",
    "                    WHERE first = :first AND last = :last\"\"\",\n",
    "            {\"first\": emp.first, \"last\": emp.last, \"pay\": pay},\n",
    "        )\n",
    "update_pay(emp_2, 95000)"
   ]
  },
  {
   "cell_type": "code",
   "execution_count": 15,
   "metadata": {},
   "outputs": [],
   "source": [
    "def remove_emp(emp):\n",
    "    with conn:\n",
    "        c.execute(\n",
    "            \"DELETE from employees WHERE first = :first AND last = :last\",\n",
    "            {\"first\": emp.first, \"last\": emp.last},\n",
    "        )\n",
    "remove_emp(emp_2)"
   ]
  },
  {
   "cell_type": "code",
   "execution_count": 16,
   "metadata": {},
   "outputs": [],
   "source": [
    "conn.close()"
   ]
  },
  {
   "cell_type": "code",
   "execution_count": 17,
   "metadata": {},
   "outputs": [],
   "source": [
    "os.remove(\"employees.db\")"
   ]
  }
 ]
}